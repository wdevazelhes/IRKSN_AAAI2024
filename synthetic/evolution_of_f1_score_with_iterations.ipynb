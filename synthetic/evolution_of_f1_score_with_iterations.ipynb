{
 "cells": [
  {
   "cell_type": "code",
   "execution_count": 14,
   "metadata": {},
   "outputs": [],
   "source": [
    "import numpy as np\n",
    "from sklearn.linear_model import LassoCV, ElasticNetCV, lasso_path, enet_path, OrthogonalMatchingPursuit\n",
    "from sklearn.model_selection import train_test_split\n",
    "from modopt.opt.proximity import KSupportNorm, SparseThreshold, ElasticNet\n",
    "from modopt.opt.linear import Identity\n",
    "from sklearn.preprocessing import normalize, MaxAbsScaler, StandardScaler\n",
    "from sklearn.feature_selection import VarianceThreshold\n",
    "from sklearn.pipeline import make_pipeline\n",
    "from scipy import sparse\n",
    "import numpy as np\n",
    "import itertools\n",
    "import matplotlib.pyplot as plt\n",
    "import benchopt\n",
    "from benchopt.datasets.simulated import make_correlated_data\n",
    "from scipy.spatial.distance import hamming\n",
    "from sklearn.metrics import f1_score\n",
    "\n",
    "import matplotlib as mpl\n",
    "mpl.rcParams['font.size'] = 26"
   ]
  },
  {
   "cell_type": "code",
   "execution_count": 4,
   "metadata": {},
   "outputs": [],
   "source": [
    "def intersection_cardinality(vector1, vector2):\n",
    "    support1 = np.nonzero(vector1)[0]\n",
    "    support2 = np.nonzero(vector2)[0]\n",
    "    intersection = np.intersect1d(support1, support2)\n",
    "    cardinality = len(intersection)\n",
    "    return cardinality\n",
    "\n",
    "def supp_dist_metric(x, starx, k):\n",
    "    return (k - intersection_cardinality(x, starx))/k"
   ]
  },
  {
   "cell_type": "code",
   "execution_count": 5,
   "metadata": {},
   "outputs": [
    {
     "name": "stdout",
     "output_type": "stream",
     "text": [
      "10\n"
     ]
    }
   ],
   "source": [
    "rs = np.random.RandomState(2)\n",
    "n_features = 50\n",
    "rho = 0.5\n",
    "snr = 3.\n",
    "X, y, x0 = make_correlated_data(n_samples=30, n_features=n_features, random_state=rs, rho=rho, snr=snr)\n",
    "\n",
    "k = np.count_nonzero(x0)\n",
    "print(k)\n",
    "\n",
    "def test_loss(beta, X_test, y_test):\n",
    "    return 1/X_test.shape[0] * np.linalg.norm(X_test @ beta - y_test)**2"
   ]
  },
  {
   "cell_type": "code",
   "execution_count": 6,
   "metadata": {},
   "outputs": [],
   "source": [
    "def run_irksn(n_iter):\n",
    "    alpha = 0.0001\n",
    "    beta = np.zeros(X.shape[1])\n",
    "    v = np.zeros(X.shape[0])\n",
    "    z = np.zeros(X.shape[0])\n",
    "    z_old = np.zeros(X.shape[0])\n",
    "    nuclear_norm = np.linalg.norm(X, ord='nuc')\n",
    "    gamma = alpha * nuclear_norm**(-2)\n",
    "    theta = 1\n",
    "    prox = KSupportNorm(beta=(1 - alpha)/alpha, k_value=k)\n",
    "    losses, sparsity = [], []\n",
    "    betas = []\n",
    "    hammings = []\n",
    "    f1s = []\n",
    "    loss = []\n",
    "    supp_dist_metrics= []\n",
    "\n",
    "    \n",
    "    print((2 * nuclear_norm * np.linalg.norm(np.linalg.pinv(X[:, :3].T) @ x0[:3]))/alpha)\n",
    "    for it in range(n_iter):\n",
    "        betas.append(beta[:, None])\n",
    "        sparsity.append(np.count_nonzero(beta))\n",
    "        losses.append(np.linalg.norm(x0 - beta))\n",
    "        hammings.append(hamming(x0.astype(bool), beta.astype(bool)))\n",
    "        f1s.append(f1_score(x0.astype(bool), beta.astype(bool)))\n",
    "        supp_dist_metrics.append(supp_dist_metric(beta, x0, k))\n",
    "        beta = prox.op(- 1/alpha * X.T @ z)\n",
    "        r = prox.op(- 1/alpha * X.T @ v)\n",
    "        z_old = z + 0.\n",
    "        z = v + gamma * (X @ r - y)\n",
    "        theta_old = theta + 0.\n",
    "        theta = (1 + np.sqrt(1 + 4 * theta ** 2))/2\n",
    "        v = z + (theta_old - 1)/(theta) * (z - z_old)\n",
    "    betas = np.hstack(betas)\n",
    "    return sparsity, losses, betas, hammings, f1s, loss, supp_dist_metrics"
   ]
  },
  {
   "cell_type": "code",
   "execution_count": 7,
   "metadata": {},
   "outputs": [],
   "source": [
    "def gradirosr(X, u, v, y):\n",
    "    residual = (X @ (u * u - v * v) - y)\n",
    "    return (2/X.shape[0] * X.T * u[:, None] @ (residual), -2/X.shape[0] * X.T * v[:, None] @ (residual))\n",
    "\n",
    "def run_irosr(n_iter):\n",
    "    eta = 0.1\n",
    "    alpha = 0.1\n",
    "    u, v = alpha * np.ones(X.shape[1]), alpha * np.zeros(X.shape[1])\n",
    "    beta = u**2 - v** 2\n",
    "    losses, sparsity, betas, hammings, loss, supp_dist_metrics = [], [], [], [], [], []\n",
    "    f1s = []\n",
    "    for it in range(n_iter):\n",
    "        betas.append(beta[:, None])\n",
    "        sparsity.append(np.count_nonzero(beta))\n",
    "        losses.append(np.linalg.norm(x0 - beta))\n",
    "        hammings.append(hamming(x0.astype(bool), beta.astype(bool)))\n",
    "        f1s.append(f1_score(x0.astype(bool), beta.astype(bool)))\n",
    "        supp_dist_metrics.append(supp_dist_metric(beta, x0, k))\n",
    "\n",
    "        u_grad, v_grad = gradirosr(X, u, v, y)\n",
    "        u -= eta * u_grad\n",
    "        v -= eta * v_grad\n",
    "        beta = u**2 - v** 2\n",
    "    betas = np.hstack(betas)\n",
    "    return sparsity, losses, betas, hammings, f1s, loss, supp_dist_metrics"
   ]
  },
  {
   "cell_type": "code",
   "execution_count": 8,
   "metadata": {},
   "outputs": [],
   "source": [
    "def shrink(u, tau, factor=1.):\n",
    "    \"\"\"Soft-thresholding of vector u at level tau > 0.\"\"\"\n",
    "    return np.sign(u) * np.maximum(0., np.abs(u) - tau)\n",
    "\n",
    "def run_ircr(n_iter):\n",
    "    beta = np.zeros(X.shape[1])\n",
    "    beta_sum = beta + 0.\n",
    "    beta_avg = beta + 0.\n",
    "    theta = np.zeros(X.shape[0])\n",
    "    theta_old = theta + 0.\n",
    "    nuclear_norm = np.linalg.norm(X, ord='nuc')\n",
    "    tau = 0.9 * 1/np.sqrt(2 * nuclear_norm**2)\n",
    "    sigma = 0.9 * 1/np.sqrt(2 * nuclear_norm**2)\n",
    "    losses, sparsity, betas, hammings, f1s, loss, supp_dist_metrics = [], [], [], [], [], [], []\n",
    "\n",
    "    for it in range(n_iter):\n",
    "        betas.append(beta_avg[:, None])\n",
    "        sparsity.append(np.count_nonzero(beta_avg))\n",
    "        losses.append(np.linalg.norm(x0 - beta_avg))\n",
    "        hammings.append(hamming(x0.astype(bool), beta_avg.astype(bool)))\n",
    "        f1s.append(f1_score(x0.astype(bool), beta_avg.astype(bool)))\n",
    "        supp_dist_metrics.append(supp_dist_metric(beta, x0, k))\n",
    "        \n",
    "        beta = shrink(beta - tau * X.T @ (2 * theta - theta_old), tau)\n",
    "        theta_old = theta + 0.\n",
    "        theta = theta_old + sigma * (X @ beta - y)\n",
    "        beta_sum = beta_sum + beta\n",
    "        beta_avg = beta_sum / it\n",
    "    betas = np.hstack(betas)\n",
    "    return sparsity, losses, betas, hammings, f1s, loss, supp_dist_metrics"
   ]
  },
  {
   "cell_type": "code",
   "execution_count": 9,
   "metadata": {},
   "outputs": [],
   "source": [
    "def hard_threshold(arr, k):\n",
    "    top_k_indices = np.argpartition(np.abs(arr), -k)[-k:]\n",
    "    thresholded_arr = np.zeros_like(arr)\n",
    "    thresholded_arr[top_k_indices] = arr[top_k_indices]\n",
    "    return thresholded_arr\n",
    "\n",
    "def run_iht(n_iter):\n",
    "    eta = 0.01\n",
    "    beta = np.zeros(X.shape[1])\n",
    "    losses, sparsity, betas, hammings, f1s, loss, supp_dist_metrics = [], [], [], [], [], [], []\n",
    "    for it in range(n_iter):\n",
    "        betas.append(beta[:, None])\n",
    "        sparsity.append(np.count_nonzero(beta))\n",
    "        losses.append(np.linalg.norm(x0 - beta))\n",
    "        hammings.append(hamming(x0.astype(bool), beta.astype(bool)))\n",
    "        f1s.append(f1_score(x0.astype(bool), beta.astype(bool)))\n",
    "        supp_dist_metrics.append(supp_dist_metric(beta, x0, k))\n",
    "\n",
    "        beta -= eta * 1/X.shape[0] * X.T @ (X @ beta - y)\n",
    "        beta = hard_threshold(beta, int(k))\n",
    "    betas = np.hstack(betas)\n",
    "    return sparsity, losses, betas, hammings, f1s, loss, supp_dist_metrics"
   ]
  },
  {
   "cell_type": "code",
   "execution_count": 10,
   "metadata": {},
   "outputs": [],
   "source": [
    "def firosr(X, u, v, y):\n",
    "    return 1/(2 * X.shape[0]) * np.sum((X @ (u * u - v * v) - y)**2)\n",
    "\n",
    "def gradirosr(X, u, v, y):\n",
    "    residual = (X @ (u * u - v * v) - y)\n",
    "    return (2/X.shape[0] * X.T * u[:, None] @ (residual), -2/X.shape[0] * X.T * v[:, None] @ (residual))\n",
    "\n",
    "\n",
    "def run_irosr(n_iter):\n",
    "    eta = 0.001\n",
    "    alpha = 1\n",
    "    u, v = alpha * np.ones(X.shape[1]), alpha * np.zeros(X.shape[1])\n",
    "    beta = u**2 - v** 2\n",
    "    losses, sparsity, betas, hammings, f1s, loss, supp_dist_metrics = [], [], [], [], [], [], []\n",
    "\n",
    "    for it in range(n_iter):\n",
    "        betas.append(beta[:, None])\n",
    "        sparsity.append(np.count_nonzero(beta))\n",
    "        losses.append(np.linalg.norm(x0 - beta))\n",
    "        hammings.append(hamming(x0.astype(bool), beta.astype(bool)))\n",
    "        f1s.append(f1_score(x0.astype(bool), beta.astype(bool)))\n",
    "        supp_dist_metrics.append(supp_dist_metric(beta, x0, k))\n",
    "\n",
    "        u_grad, v_grad = gradirosr(X, u, v, y)\n",
    "        u -= eta * u_grad\n",
    "        v -= eta * v_grad\n",
    "        beta = u**2 - v** 2\n",
    "    betas = np.hstack(betas)\n",
    "    return sparsity, losses, betas, hammings, f1s, loss, supp_dist_metrics"
   ]
  },
  {
   "cell_type": "code",
   "execution_count": 11,
   "metadata": {},
   "outputs": [],
   "source": [
    "def run_srdi(n_iter):\n",
    "    kappa, alpha = 0.1, 0.1\n",
    "    min_val_loss = np.infty\n",
    "    curr_loss = np.infty\n",
    "    z = np.zeros(X.shape[1])\n",
    "    beta = np.zeros(X.shape[1])\n",
    "    losses, sparsity, betas, hammings, f1s, loss, supp_dist_metrics = [], [], [], [], [], [], []\n",
    "    for it in range(n_iter):\n",
    "        betas.append(beta[:, None])\n",
    "        sparsity.append(np.count_nonzero(beta))\n",
    "        losses.append(np.linalg.norm(x0 - beta))\n",
    "        hammings.append(hamming(x0.astype(bool), beta.astype(bool)))\n",
    "        f1s.append(f1_score(x0.astype(bool), beta.astype(bool)))\n",
    "        supp_dist_metrics.append(supp_dist_metric(beta, x0, k))\n",
    "\n",
    "        z = z + alpha/X.shape[1] * X.T @ (y - X @ beta)\n",
    "        beta = kappa * shrink(z, 1)\n",
    "    betas = np.hstack(betas)\n",
    "    return sparsity, losses, betas, hammings, f1s, loss, supp_dist_metrics"
   ]
  },
  {
   "cell_type": "markdown",
   "metadata": {},
   "source": [
    "# Plotting"
   ]
  },
  {
   "cell_type": "code",
   "execution_count": 12,
   "metadata": {},
   "outputs": [
    {
     "name": "stderr",
     "output_type": "stream",
     "text": [
      "/var/folders/0k/3wpd9xq16431qnr10wd2lx8h0000gp/T/ipykernel_36543/2512370968.py:28: RuntimeWarning: invalid value encountered in divide\n",
      "  beta_avg = beta_sum / it\n"
     ]
    },
    {
     "name": "stdout",
     "output_type": "stream",
     "text": [
      "289237.3849599295\n"
     ]
    },
    {
     "name": "stderr",
     "output_type": "stream",
     "text": [
      "/Users/william.vezelhes/miniconda3/envs/ksn/lib/python3.11/site-packages/modopt/opt/proximity.py:1021: RuntimeWarning: divide by zero encountered in scalar divide\n",
      "  return (self._k_value - b_val) / slope\n"
     ]
    }
   ],
   "source": [
    "n_iter = 20000\n",
    "sparsity_ircr, losses_ircr, betas_ircr, hammings_ircr, f1s_ircr, loss_ircr, supp_dist_metrics_ircr = run_ircr(n_iter)\n",
    "sparsity_irksn, losses_irksn, betas_irksn, hammings_irksn, f1s_irksn, loss_irksn, supp_dist_metrics_irksn = run_irksn(n_iter)\n",
    "sparsity_iht, losses_iht, betas_iht, hammings_iht, f1s_iht, loss_iht, supp_dist_metrics_iht = run_iht(n_iter)\n",
    "sparsity_irosr, losses_irosr, betas_irosr, hammings_irosr, f1s_irosr, loss_irosr, supp_dist_metrics_irosr = run_irosr(n_iter)\n",
    "sparsity_srdi, losses_srdi, betas_srdi, hammings_srdi, f1s_srdi, loss_srdi, supp_dist_metrics_srdi = run_srdi(n_iter)"
   ]
  },
  {
   "cell_type": "code",
   "execution_count": 24,
   "metadata": {},
   "outputs": [
    {
     "data": {
      "text/plain": [
       "Text(0, 0.5, 'F1-score')"
      ]
     },
     "execution_count": 24,
     "metadata": {},
     "output_type": "execute_result"
    },
    {
     "data": {
      "image/png": "[encoded data removed]",
      "text/plain": [
       "<Figure size 640x480 with 1 Axes>"
      ]
     },
     "metadata": {},
     "output_type": "display_data"
    }
   ],
   "source": [
    "\n",
    "plt.figure()\n",
    "plt.plot(f1s_irksn, label='irksn', linestyle='--')\n",
    "plt.plot(f1s_ircr, label='ircr', linestyle='--')\n",
    "plt.plot(f1s_iht, label='iht', linestyle=':')\n",
    "plt.plot(f1s_irosr, label='irosr', linestyle=':')\n",
    "plt.plot(f1s_srdi, label='srdi', linestyle=':')\n",
    "plt.legend(loc='lower center', handlelength=0.3, ncol=2)\n",
    "plt.xlabel(r'$t$')\n",
    "plt.ylabel('F1-score')\n"
   ]
  },
  {
   "cell_type": "code",
   "execution_count": null,
   "metadata": {},
   "outputs": [],
   "source": []
  },
  {
   "cell_type": "code",
   "execution_count": null,
   "metadata": {},
   "outputs": [],
   "source": []
  },
  {
   "cell_type": "code",
   "execution_count": null,
   "metadata": {},
   "outputs": [],
   "source": []
  },
  {
   "cell_type": "code",
   "execution_count": null,
   "metadata": {},
   "outputs": [],
   "source": []
  }
 ],
 "metadata": {
  "kernelspec": {
   "display_name": "sk",
   "language": "python",
   "name": "python3"
  },
  "language_info": {
   "codemirror_mode": {
    "name": "ipython",
    "version": 3
   },
   "file_extension": ".py",
   "mimetype": "text/x-python",
   "name": "python",
   "nbconvert_exporter": "python",
   "pygments_lexer": "ipython3",
   "version": "3.11.0"
  },
  "orig_nbformat": 4,
  "vscode": {
   "interpreter": {
    "hash": "f402f967f20368d30ecc086e30b8df21923d182af82d6d59a83eb667d54c5d71"
   }
  }
 },
 "nbformat": 4,
 "nbformat_minor": 2
}
