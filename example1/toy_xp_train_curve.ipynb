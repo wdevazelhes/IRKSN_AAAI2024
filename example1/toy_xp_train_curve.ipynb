{
 "cells": [
  {
   "cell_type": "code",
   "execution_count": 1,
   "metadata": {},
   "outputs": [
    {
     "name": "stderr",
     "output_type": "stream",
     "text": [
      "WARNING: astropy not found, will default to scipy for convolution\n"
     ]
    }
   ],
   "source": [
    "import numpy as np\n",
    "from sklearn.linear_model import LassoCV, ElasticNetCV, lasso_path, enet_path, OrthogonalMatchingPursuit\n",
    "from sklearn.model_selection import train_test_split\n",
    "from modopt.opt.proximity import KSupportNorm, SparseThreshold, ElasticNet\n",
    "from modopt.opt.linear import Identity\n",
    "from sklearn.preprocessing import normalize, MaxAbsScaler, StandardScaler\n",
    "from sklearn.feature_selection import VarianceThreshold\n",
    "from sklearn.pipeline import make_pipeline\n",
    "from scipy import sparse\n",
    "import numpy as np\n",
    "import itertools\n",
    "import matplotlib.pyplot as plt"
   ]
  },
  {
   "cell_type": "code",
   "execution_count": 2,
   "metadata": {},
   "outputs": [],
   "source": [
    "rs = np.random.RandomState(2)\n",
    "w11, w12, w13 = 9/11, 6/11, 2/11\n",
    "w21, w22, w23 = 1/3, 14/15, 2/15\n",
    "w31, w32, w33 = 1, 1, -4\n",
    "X1 = rs.randn(4)\n",
    "X2 = rs.randn(4)\n",
    "X3 = rs.randn(4)\n",
    "X4 = w11 * X1 + w12 * X2 + w13 * X3\n",
    "X5 = w21 * X1 + w22 * X2 + w23 * X3\n",
    "x0 = np.array([w31, w32, w33, 0., 0.])\n",
    "y = w31 * X1 + w32 * X2 + w33 * X3\n",
    "X = np.hstack([X1[:, None], X2[:, None], X3[:, None], X4[:, None], X5[:, None]])"
   ]
  },
  {
   "cell_type": "code",
   "execution_count": 3,
   "metadata": {},
   "outputs": [],
   "source": [
    "X /= 4\n",
    "y /= 4"
   ]
  },
  {
   "cell_type": "code",
   "execution_count": 4,
   "metadata": {},
   "outputs": [],
   "source": [
    "def run_irksn(n_iter):\n",
    "    alpha = 0.001\n",
    "    k = 3\n",
    "    beta = np.zeros(X.shape[1])\n",
    "    v = np.zeros(X.shape[0])\n",
    "    z = np.zeros(X.shape[0])\n",
    "    z_old = np.zeros(X.shape[0])\n",
    "    nuclear_norm = np.linalg.norm(X, ord='nuc')\n",
    "    gamma = 0.5 * alpha * nuclear_norm**(-2)\n",
    "    theta = 1\n",
    "    prox = KSupportNorm(beta=(1 - alpha)/alpha, k_value=k)\n",
    "    losses, sparsity = [], []\n",
    "    betas = []\n",
    "    print((2 * nuclear_norm * np.linalg.norm(np.linalg.pinv(X[:, :3].T) @ x0[:3]))/alpha)\n",
    "    for it in range(n_iter):\n",
    "        betas.append(beta[:, None])\n",
    "        sparsity.append(np.count_nonzero(beta))\n",
    "        losses.append(np.linalg.norm(x0 - beta))\n",
    "        \n",
    "        beta = prox.op(- 1/alpha * X.T @ z)\n",
    "        r = prox.op(- 1/alpha * X.T @ v)\n",
    "        z_old = z + 0.\n",
    "        z = v + gamma * (X @ r - y)\n",
    "        theta_old = theta + 0.\n",
    "        theta = (1 + np.sqrt(1 + 4 * theta ** 2))/2\n",
    "        v = z + (theta_old - 1)/(theta) * (z - z_old)\n",
    "    betas = np.hstack(betas)\n",
    "    return sparsity, losses, betas"
   ]
  },
  {
   "cell_type": "code",
   "execution_count": 5,
   "metadata": {},
   "outputs": [],
   "source": [
    "def gradirosr(X, u, v, y):\n",
    "    residual = (X @ (u * u - v * v) - y)\n",
    "    return (2/X.shape[0] * X.T * u[:, None] @ (residual), -2/X.shape[0] * X.T * v[:, None] @ (residual))\n",
    "\n",
    "def run_irosr(n_iter):\n",
    "    eta = 0.1\n",
    "    alpha = 0.1\n",
    "    u, v = alpha * np.ones(X.shape[1]), alpha * np.zeros(X.shape[1])\n",
    "    beta = u**2 - v** 2\n",
    "    losses, sparsity, betas = [], [], []\n",
    "    for it in range(n_iter):\n",
    "        betas.append(beta[:, None])\n",
    "        sparsity.append(np.count_nonzero(beta))\n",
    "        losses.append(np.linalg.norm(x0 - beta))\n",
    "        u_grad, v_grad = gradirosr(X, u, v, y)\n",
    "        u -= eta * u_grad\n",
    "        v -= eta * v_grad\n",
    "        beta = u**2 - v** 2\n",
    "    betas = np.hstack(betas)\n",
    "    return sparsity, losses, betas"
   ]
  },
  {
   "cell_type": "code",
   "execution_count": 6,
   "metadata": {},
   "outputs": [],
   "source": [
    "def shrink(u, tau, factor=1.):\n",
    "    \"\"\"Soft-thresholding of vector u at level tau > 0.\"\"\"\n",
    "    return np.sign(u) * np.maximum(0., np.abs(u) - tau)\n",
    "\n",
    "def run_ircr(n_iter):\n",
    "    beta = np.zeros(X.shape[1])\n",
    "    beta_sum = beta + 0.\n",
    "    beta_avg = beta + 0.\n",
    "    theta = np.zeros(X.shape[0])\n",
    "    theta_old = theta + 0.\n",
    "    nuclear_norm = np.linalg.norm(X, ord='nuc')\n",
    "    tau = 0.9 * 1/np.sqrt(2 * nuclear_norm**2)\n",
    "    sigma = 0.9 * 1/np.sqrt(2 * nuclear_norm**2)\n",
    "    losses, sparsity, betas = [], [], []\n",
    "\n",
    "    for it in range(n_iter):\n",
    "        betas.append(beta_avg[:, None])\n",
    "        sparsity.append(np.count_nonzero(beta_avg))\n",
    "        losses.append(np.linalg.norm(x0 - beta_avg))\n",
    "        beta = shrink(beta - tau * X.T @ (2 * theta - theta_old), tau)\n",
    "        theta_old = theta + 0.\n",
    "        theta = theta_old + sigma * (X @ beta - y)\n",
    "        beta_sum = beta_sum + beta\n",
    "        beta_avg = beta_sum / it\n",
    "    betas = np.hstack(betas)\n",
    "    return sparsity, losses, betas"
   ]
  },
  {
   "cell_type": "code",
   "execution_count": 7,
   "metadata": {},
   "outputs": [],
   "source": [
    "def hard_threshold(arr, k):\n",
    "    top_k_indices = np.argpartition(np.abs(arr), -k)[-k:]\n",
    "    thresholded_arr = np.zeros_like(arr)\n",
    "    thresholded_arr[top_k_indices] = arr[top_k_indices]\n",
    "    return thresholded_arr\n",
    "\n",
    "def run_iht(n_iter):\n",
    "    eta = 0.01\n",
    "    k = 3\n",
    "    beta = np.zeros(X.shape[1])\n",
    "    losses, sparsity, betas = [], [], []\n",
    "    for it in range(n_iter):\n",
    "        betas.append(beta[:, None])\n",
    "        sparsity.append(np.count_nonzero(beta))\n",
    "        losses.append(np.linalg.norm(x0 - beta))\n",
    "        beta -= eta * 1/X.shape[0] * X.T @ (X @ beta - y)\n",
    "        beta = hard_threshold(beta, int(k))\n",
    "    betas = np.hstack(betas)\n",
    "    return sparsity, losses, betas"
   ]
  },
  {
   "cell_type": "code",
   "execution_count": 8,
   "metadata": {},
   "outputs": [],
   "source": [
    "def firosr(X, u, v, y):\n",
    "    return 1/(2 * X.shape[0]) * np.sum((X @ (u * u - v * v) - y)**2)\n",
    "\n",
    "def gradirosr(X, u, v, y):\n",
    "    residual = (X @ (u * u - v * v) - y)\n",
    "    return (2/X.shape[0] * X.T * u[:, None] @ (residual), -2/X.shape[0] * X.T * v[:, None] @ (residual))\n",
    "\n",
    "\n",
    "def run_irosr(n_iter):\n",
    "    eta = 0.001\n",
    "    alpha = 1\n",
    "    u, v = alpha * np.ones(X.shape[1]), alpha * np.zeros(X.shape[1])\n",
    "    beta = u**2 - v** 2\n",
    "    losses, sparsity, betas = [], [], []\n",
    "    for it in range(n_iter):\n",
    "        betas.append(beta[:, None])\n",
    "        sparsity.append(np.count_nonzero(beta))\n",
    "        losses.append(np.linalg.norm(x0 - beta))\n",
    "        u_grad, v_grad = gradirosr(X, u, v, y)\n",
    "        u -= eta * u_grad\n",
    "        v -= eta * v_grad\n",
    "        beta = u**2 - v** 2\n",
    "    betas = np.hstack(betas)\n",
    "    return sparsity, losses, betas"
   ]
  },
  {
   "cell_type": "code",
   "execution_count": 15,
   "metadata": {},
   "outputs": [],
   "source": [
    "def run_srdi(n_iter):\n",
    "    kappa, alpha = 0.1, 0.1\n",
    "    min_val_loss = np.infty\n",
    "    curr_loss = np.infty\n",
    "    z = np.zeros(X.shape[1])\n",
    "    beta = np.zeros(X.shape[1])\n",
    "    losses, sparsity, betas = [], [], []\n",
    "    for it in range(n_iter):\n",
    "        betas.append(beta[:, None])\n",
    "        sparsity.append(np.count_nonzero(beta))\n",
    "        losses.append(np.linalg.norm(x0 - beta))\n",
    "        z = z + alpha/X.shape[1] * X.T @ (y - X @ beta)\n",
    "        beta = kappa * shrink(z, 1)\n",
    "    betas = np.hstack(betas)\n",
    "    return sparsity, losses, betas"
   ]
  },
  {
   "cell_type": "markdown",
   "metadata": {},
   "source": [
    "# Plotting"
   ]
  },
  {
   "cell_type": "code",
   "execution_count": null,
   "metadata": {},
   "outputs": [],
   "source": [
    "n_iter = 10000\n",
    "sparsity_ircr, losses_ircr, betas_ircr = run_ircr(n_iter)\n",
    "sparsity_irksn, losses_irksn, betas_irksn = run_irksn(n_iter)\n",
    "sparsity_iht, losses_iht, betas_iht = run_iht(n_iter)\n",
    "sparsity_irosr, losses_irosr, betas_irosr = run_irosr(n_iter)\n",
    "sparsity_srdi, losses_srdi, betas_srdi = run_srdi(n_iter)"
   ]
  },
  {
   "cell_type": "code",
   "execution_count": 17,
   "metadata": {},
   "outputs": [
    {
     "data": {
      "text/plain": [
       "Text(0.5, 1.0, 'Sparsity')"
      ]
     },
     "execution_count": 17,
     "metadata": {},
     "output_type": "execute_result"
    },
    {
     "data": {
      "image/png": "[encoded data removed]",
      "text/plain": [
       "<Figure size 432x288 with 1 Axes>"
      ]
     },
     "metadata": {
      "needs_background": "light"
     },
     "output_type": "display_data"
    },
    {
     "data": {
      "image/png": "[encoded data removed]",
      "text/plain": [
       "<Figure size 432x288 with 1 Axes>"
      ]
     },
     "metadata": {
      "needs_background": "light"
     },
     "output_type": "display_data"
    }
   ],
   "source": [
    "\n",
    "plt.figure()\n",
    "plt.plot(losses_irksn, label='irksn')\n",
    "plt.plot(losses_ircr, label='ircr')\n",
    "plt.plot(losses_iht, label='iht')\n",
    "plt.plot(losses_irosr, label='irosr')\n",
    "plt.plot(losses_srdi, label='srdi')\n",
    "plt.legend()\n",
    "plt.title('Model Error')\n",
    "\n",
    "\n",
    "plt.figure()\n",
    "plt.plot(sparsity_irksn, label='irksn', linestyle='--')\n",
    "plt.plot(sparsity_ircr, label='ircr', linestyle='--')\n",
    "plt.plot(sparsity_iht, label='iht', linestyle=':')\n",
    "plt.plot(sparsity_irosr, label='irosr', linestyle=':')\n",
    "plt.plot(sparsity_srdi, label='srdi', linestyle=':')\n",
    "plt.legend()\n",
    "plt.title('Sparsity')"
   ]
  }
 ],
 "metadata": {
  "kernelspec": {
   "display_name": "sk",
   "language": "python",
   "name": "python3"
  },
  "language_info": {
   "codemirror_mode": {
    "name": "ipython",
    "version": 3
   },
   "file_extension": ".py",
   "mimetype": "text/x-python",
   "name": "python",
   "nbconvert_exporter": "python",
   "pygments_lexer": "ipython3",
   "version": "3.7.7"
  },
  "orig_nbformat": 4,
  "vscode": {
   "interpreter": {
    "hash": "f402f967f20368d30ecc086e30b8df21923d182af82d6d59a83eb667d54c5d71"
   }
  }
 },
 "nbformat": 4,
 "nbformat_minor": 2
}
