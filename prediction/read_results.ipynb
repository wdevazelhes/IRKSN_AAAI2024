{
 "cells": [
  {
   "cell_type": "code",
   "execution_count": 1,
   "metadata": {},
   "outputs": [],
   "source": [
    "import pandas as pd"
   ]
  },
  {
   "cell_type": "code",
   "execution_count": 2,
   "metadata": {},
   "outputs": [],
   "source": [
    "# Read CSV file\n",
    "df = pd.read_csv('results.csv')\n",
    "# Round each value to three significant figures\n",
    "df = df.round(3)"
   ]
  },
  {
   "cell_type": "code",
   "execution_count": 4,
   "metadata": {},
   "outputs": [],
   "source": [
    "\n",
    "# Reshape the dataframe\n",
    "df_mean = df.pivot(index=' algo', columns='dataset', values=' mse')\n",
    "df_std = df.pivot(index=' algo', columns='dataset', values=' std')"
   ]
  },
  {
   "cell_type": "code",
   "execution_count": 5,
   "metadata": {},
   "outputs": [],
   "source": [
    "df_mean = df_mean[['leukemia', 'housing', 'breheny1', 'breheny2']].loc[['iht', 'lasso', 'enet', 'ksn', 'omp', 'srdi', 'irosr', 'ircr', 'irksn']]"
   ]
  },
  {
   "cell_type": "code",
   "execution_count": 6,
   "metadata": {},
   "outputs": [],
   "source": [
    "df_std = df_std[['leukemia', 'housing', 'breheny1', 'breheny2']].loc[['iht', 'lasso', 'enet', 'ksn', 'omp', 'srdi', 'irosr', 'ircr', 'irksn']]"
   ]
  },
  {
   "cell_type": "code",
   "execution_count": null,
   "metadata": {},
   "outputs": [],
   "source": [
    "print(df_mean)"
   ]
  },
  {
   "cell_type": "code",
   "execution_count": null,
   "metadata": {},
   "outputs": [],
   "source": [
    "print(df_std)"
   ]
  },
  {
   "cell_type": "code",
   "execution_count": null,
   "metadata": {},
   "outputs": [],
   "source": []
  }
 ],
 "metadata": {
  "kernelspec": {
   "display_name": "skenv",
   "language": "python",
   "name": "python3"
  },
  "language_info": {
   "codemirror_mode": {
    "name": "ipython",
    "version": 3
   },
   "file_extension": ".py",
   "mimetype": "text/x-python",
   "name": "python",
   "nbconvert_exporter": "python",
   "pygments_lexer": "ipython3",
   "version": "3.9.12"
  },
  "orig_nbformat": 4,
  "vscode": {
   "interpreter": {
    "hash": "36194b66b2e7c82991c5e7df297221092f9d77d8ab4b21cf3f0e381612587b15"
   }
  }
 },
 "nbformat": 4,
 "nbformat_minor": 2
}
